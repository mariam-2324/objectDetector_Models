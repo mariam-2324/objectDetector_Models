{
  "nbformat": 4,
  "nbformat_minor": 0,
  "metadata": {
    "colab": {
      "provenance": []
    },
    "kernelspec": {
      "name": "python3",
      "display_name": "Python 3"
    },
    "language_info": {
      "name": "python"
    }
  },
  "cells": [
    {
      "cell_type": "markdown",
      "source": [
        "# **OBJECT DETECTION MODEL:**"
      ],
      "metadata": {
        "id": "b46S8B5bCdtq"
      }
    },
    {
      "cell_type": "markdown",
      "source": [
        "## **facebook/detr-resnet-50**"
      ],
      "metadata": {
        "id": "RPYeOgHGCZRX"
      }
    },
    {
      "cell_type": "code",
      "execution_count": null,
      "metadata": {
        "id": "ogQcbLQJ_paI"
      },
      "outputs": [],
      "source": [
        "!pip install -U transformers"
      ]
    },
    {
      "cell_type": "code",
      "source": [
        "# Use a pipeline as a high-level helper\n",
        "from transformers import pipeline\n",
        "\n",
        "pipe = pipeline(\"object-detection\", model=\"facebook/detr-resnet-50\")"
      ],
      "metadata": {
        "id": "Zpdw0wcqBDD3"
      },
      "execution_count": null,
      "outputs": []
    },
    {
      "cell_type": "code",
      "source": [
        "# Load model directly\n",
        "from transformers import AutoImageProcessor, AutoModelForObjectDetection\n",
        "\n",
        "processor = AutoImageProcessor.from_pretrained(\"facebook/detr-resnet-50\")\n",
        "model = AutoModelForObjectDetection.from_pretrained(\"facebook/detr-resnet-50\")"
      ],
      "metadata": {
        "id": "mFYWkoCbBDqU",
        "colab": {
          "base_uri": "https://localhost:8080/"
        },
        "outputId": "e324a78b-38bb-4f18-8f19-94a96d2e78ac"
      },
      "execution_count": null,
      "outputs": [
        {
          "output_type": "stream",
          "name": "stderr",
          "text": [
            "Some weights of the model checkpoint at facebook/detr-resnet-50 were not used when initializing DetrForObjectDetection: ['model.backbone.conv_encoder.model.layer1.0.downsample.1.num_batches_tracked', 'model.backbone.conv_encoder.model.layer2.0.downsample.1.num_batches_tracked', 'model.backbone.conv_encoder.model.layer3.0.downsample.1.num_batches_tracked', 'model.backbone.conv_encoder.model.layer4.0.downsample.1.num_batches_tracked']\n",
            "- This IS expected if you are initializing DetrForObjectDetection from the checkpoint of a model trained on another task or with another architecture (e.g. initializing a BertForSequenceClassification model from a BertForPreTraining model).\n",
            "- This IS NOT expected if you are initializing DetrForObjectDetection from the checkpoint of a model that you expect to be exactly identical (initializing a BertForSequenceClassification model from a BertForSequenceClassification model).\n"
          ]
        }
      ]
    },
    {
      "cell_type": "code",
      "source": [
        "import os\n",
        "os.environ['TEXT_TO_IMAGE'] = 'your_hf_token_here'"
      ],
      "metadata": {
        "id": "4zyuFK_ABEGl"
      },
      "execution_count": null,
      "outputs": []
    },
    {
      "cell_type": "markdown",
      "source": [
        "## MODEL CLASSIFICATION:\n",
        "\n",
        "The model **facebook/detr-resnet-50** is trained on the **COCO dataset**, which has a fixed set of 91 classes (including \"zebra\", but not \"tiger\").\n",
        "\n",
        "✅ **COCO dataset classes example:** person, dog, car, airplane, zebra, elephant... (no tiger)."
      ],
      "metadata": {
        "id": "e7aKFYbsxzlX"
      }
    },
    {
      "cell_type": "code",
      "source": [
        "import os\n",
        "from transformers import pipeline\n",
        "from PIL import Image\n",
        "\n",
        "# Load the object detection pipeline with the correct model\n",
        "detector = pipeline(\"object-detection\", model=\"facebook/detr-resnet-50\")\n",
        "\n",
        "# Load the image\n",
        "image_path = \"/content/zebra.jpg\"\n",
        "image = Image.open(image_path)\n",
        "\n",
        "# Perform object detection\n",
        "results = detector(image)\n",
        "\n",
        "# Print the detection results\n",
        "for obj in results:\n",
        "    print(obj)\n"
      ],
      "metadata": {
        "id": "5eIkuXmoBEik",
        "colab": {
          "base_uri": "https://localhost:8080/"
        },
        "outputId": "5744317b-685a-41e9-8bfa-2bf90d284b71"
      },
      "execution_count": null,
      "outputs": [
        {
          "output_type": "stream",
          "name": "stderr",
          "text": [
            "Some weights of the model checkpoint at facebook/detr-resnet-50 were not used when initializing DetrForObjectDetection: ['model.backbone.conv_encoder.model.layer1.0.downsample.1.num_batches_tracked', 'model.backbone.conv_encoder.model.layer2.0.downsample.1.num_batches_tracked', 'model.backbone.conv_encoder.model.layer3.0.downsample.1.num_batches_tracked', 'model.backbone.conv_encoder.model.layer4.0.downsample.1.num_batches_tracked']\n",
            "- This IS expected if you are initializing DetrForObjectDetection from the checkpoint of a model trained on another task or with another architecture (e.g. initializing a BertForSequenceClassification model from a BertForPreTraining model).\n",
            "- This IS NOT expected if you are initializing DetrForObjectDetection from the checkpoint of a model that you expect to be exactly identical (initializing a BertForSequenceClassification model from a BertForSequenceClassification model).\n",
            "Device set to use cuda:0\n"
          ]
        },
        {
          "output_type": "stream",
          "name": "stdout",
          "text": [
            "{'score': 0.9997774958610535, 'label': 'zebra', 'box': {'xmin': 38, 'ymin': 23, 'xmax': 163, 'ymax': 143}}\n"
          ]
        }
      ]
    }
  ]
}